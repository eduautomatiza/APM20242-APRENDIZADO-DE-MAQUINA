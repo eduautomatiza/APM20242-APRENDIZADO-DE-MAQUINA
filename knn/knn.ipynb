{
 "cells": [
  {
   "cell_type": "markdown",
   "metadata": {},
   "source": [
    "## Método dos vizinhos mais próximos (kNN):\n",
    "\n",
    "### Apresente os dados utilizados, descrevendo o objetivo da análise e as variáveis de interesse.\n",
    "\n",
    "Serão utilizados dois arquivos, cada um contendo as seguintes colunas:\n",
    "\n",
    "- `device_id`\n",
    "- `time`\n",
    "- `distance`\n",
    "- `noise`\n",
    "\n",
    "Cada arquivo contém informações de um sensor ao longo de um período. A coluna noise foi classificada manualmente indicando se este registro possui anomalia. \n",
    "O objetivo da análise é verificar a possibilidade de classificar se uma leitura do sensor possui ruído ou não.\n",
    "Para isso, serão adicionadas algumas colunas derivadas de operações matemática sobre os dados de cada leitura.\n",
    "Estas operações servem para relacionar a leitura atual com leituras mais antigas.\n"
   ]
  },
  {
   "cell_type": "markdown",
   "metadata": {},
   "source": [
    "### Função que carrega o arquivo e executa as operações matemáticas"
   ]
  },
  {
   "cell_type": "code",
   "execution_count": 211,
   "metadata": {},
   "outputs": [],
   "source": [
    "import pandas as pd\n",
    "import numpy as np\n",
    "\n",
    "def load_file(filename: str) -> pd.DataFrame:\n",
    "    # Carregar a base de dados\n",
    "    df = pd.read_csv(filename, parse_dates=[\"time\"], dtype={\"distance\": float}) # distance: distância em milímetros\n",
    "    df[\"time\"] += pd.Timedelta(hours=-3) # corrige horário fuso horário do Brasil\n",
    "    df[\"t\"] = df[\"time\"].astype(np.int64) / 1e9 # converte horário para segundos (Unix timestamp)\n",
    "    df = df.dropna(subset=[\"distance\", \"time\", \"t\"]) # remove linhas com valores faltantes\n",
    "    df = df.sort_values(by=\"time\")\n",
    "\n",
    "\n",
    "    df[\"diff_d1\"] = df[\"distance\"].diff(periods=1) # calcula a diferença de distância entre as amostras\n",
    "    df[\"diff_d2\"] = df[\"distance\"].diff(periods=2) # calcula a diferença de distância com 2 amostras de diferença\n",
    "    df[\"diff_d3\"] = df[\"distance\"].diff(periods=3) # calcula a diferença de distância com 3 amostras de diferença\n",
    "    df[\"diff_d4\"] = df[\"distance\"].diff(periods=4)\n",
    "    df[\"diff_d5\"] = df[\"distance\"].diff(periods=5)\n",
    "\n",
    "    df[\"diff_t\"] = df[\"t\"].diff() # calcula a diferença de tempo entre as amostras\n",
    "    df['dddt'] = df[\"diff_d1\"] / df[\"diff_t\"] # calcula a velocidade entre as amostras (mm/s)\n",
    "\n",
    "    df = df.dropna(subset=[\"diff_d1\", \"diff_d2\", \"diff_d3\", \"diff_d4\", \"diff_d5\", \"dddt\"]) # remove linhas com valores faltantes\n",
    "\n",
    "    return df # retorna o dataframe\n"
   ]
  },
  {
   "cell_type": "markdown",
   "metadata": {},
   "source": [
    "### Função que separa os dados de treinamento e teste e treina o modelo"
   ]
  },
  {
   "cell_type": "code",
   "execution_count": 212,
   "metadata": {},
   "outputs": [],
   "source": [
    "from sklearn.model_selection import train_test_split\n",
    "from sklearn.neighbors import KNeighborsClassifier\n",
    "import pandas as pd\n",
    "\n",
    "def fit_model(X, y, test_size=0.3, scale=False, n_neighbors=5)-> KNeighborsClassifier:\n",
    "    X_train, X_test, y_train, y_test = train_test_split(X, y, test_size=test_size, random_state=42) # divide os dados em treino e teste\n",
    "    if scale:\n",
    "        from sklearn.preprocessing import StandardScaler\n",
    "        scaler = StandardScaler()\n",
    "        X_train = scaler.fit_transform(X_train)\n",
    "        X_train = pd.DataFrame(X_train, columns=X.columns)\n",
    "        X_test = scaler.transform(X_test)\n",
    "        X_test = pd.DataFrame(X_test, columns=X.columns)\n",
    "\n",
    "    model = KNeighborsClassifier(n_neighbors=n_neighbors)\n",
    "    model.fit(X_train, y_train)\n",
    "\n",
    "    return model, X_test, y_test, scaler if scale else None\n"
   ]
  },
  {
   "cell_type": "markdown",
   "metadata": {},
   "source": [
    "### Função que calcula as métricas do modelo"
   ]
  },
  {
   "cell_type": "code",
   "execution_count": 213,
   "metadata": {},
   "outputs": [],
   "source": [
    "from sklearn.metrics import accuracy_score, precision_score, recall_score, f1_score, roc_auc_score, confusion_matrix\n",
    "\n",
    "def calculate_metrics(model, X_test, y_test):\n",
    "    # Previsões no conjunto de teste\n",
    "    y_pred = model.predict(X_test)\n",
    "    # Métricas\n",
    "    accuracy = accuracy_score(y_test, y_pred)\n",
    "    precision = precision_score(y_test, y_pred, zero_division=0)\n",
    "    recall = recall_score(y_test, y_pred)\n",
    "    f1 = f1_score(y_test, y_pred)\n",
    "\n",
    "    cm = confusion_matrix(y_test, y_pred)\n",
    "    tn, fp, fn, tp = cm.ravel()\n",
    "    specificity = tn / (tn + fp)\n",
    "\n",
    "    return {\"cm\": cm, \"accuracy\": accuracy, \"precision\": precision, \"recall\": recall, \"specificity\": specificity, \"f1_score\": f1}\n"
   ]
  },
  {
   "cell_type": "markdown",
   "metadata": {},
   "source": [
    "### Função para gerar o gráfico da curva ROC"
   ]
  },
  {
   "cell_type": "code",
   "execution_count": 214,
   "metadata": {},
   "outputs": [],
   "source": [
    "import matplotlib.pyplot as plt\n",
    "from sklearn.metrics import roc_curve, auc\n",
    "\n",
    "def plot_roc_curve(model, X_test, y_test):\n",
    "    y_prob = model.predict_proba(X_test)[:, 1]\n",
    "    # Curva ROC\n",
    "    fpr, tpr, thresholds = roc_curve(y_test, y_prob)\n",
    "    roc_auc = auc(fpr, tpr)\n",
    "\n",
    "    plt.figure()\n",
    "    plt.plot(fpr, tpr, label='Curva ROC (AUC = %0.2f)' % roc_auc)\n",
    "    plt.plot([0, 1], [0, 1], 'r--')\n",
    "    plt.xlim([-0.01, 1.01])\n",
    "    plt.ylim([-0.01, 1.01])\n",
    "    plt.xlabel('Taxa de Falsos Positivos')\n",
    "    plt.ylabel('Taxa de Verdadeiros Positivos')\n",
    "    plt.title('Curva ROC')\n",
    "    plt.legend(loc=\"lower right\")\n",
    "    plt.grid(True)\n",
    "    plt.show()\n"
   ]
  },
  {
   "cell_type": "markdown",
   "metadata": {},
   "source": [
    "### Função que gera modelos com diferentes números de vizinhos e gera uma lista para análise de resultados"
   ]
  },
  {
   "cell_type": "code",
   "execution_count": 215,
   "metadata": {},
   "outputs": [],
   "source": [
    "import pandas as pd\n",
    "\n",
    "def evaluate_knn(X, y, test_size=0.3, scale=False):\n",
    "    results = []\n",
    "\n",
    "    for k in range(1, 12):  # Testando K de 1 a 11\n",
    "        model, X_test, y_test, scale = fit_model(X, y, test_size=test_size, scale=scale, n_neighbors=k)\n",
    "\n",
    "        metrics = calculate_metrics(model, X_test, y_test)\n",
    "        results.append([k, metrics[\"cm\"], metrics[\"accuracy\"], metrics[\"precision\"], metrics[\"recall\"], metrics[\"specificity\"], metrics[\"f1_score\"]])\n",
    "\n",
    "\n",
    "    # Criando DataFrame para exibir os resultados\n",
    "    results_df = pd.DataFrame(results, columns=[\"k\", \"cm\", \"accuracy\", \"precision\", \"recall\", \"specificity\", \"f1_score\"])\n",
    "    return results_df\n"
   ]
  },
  {
   "cell_type": "markdown",
   "metadata": {},
   "source": [
    "### Carrega o arquivo com dados do sensor"
   ]
  },
  {
   "cell_type": "code",
   "execution_count": 216,
   "metadata": {},
   "outputs": [
    {
     "name": "stdout",
     "output_type": "stream",
     "text": [
      "   device_id                time  distance  noise             t  diff_d1  \\\n",
      "5        833 2025-02-14 21:33:48     396.0  False  1.739569e+09     -2.0   \n",
      "6        833 2025-02-14 21:38:48     398.0  False  1.739569e+09      2.0   \n",
      "7        833 2025-02-14 21:43:48     398.0  False  1.739569e+09      0.0   \n",
      "8        833 2025-02-14 21:48:48     392.0  False  1.739570e+09     -6.0   \n",
      "9        833 2025-02-14 21:59:16     388.0  False  1.739570e+09     -4.0   \n",
      "\n",
      "   diff_d2  diff_d3  diff_d4  diff_d5  diff_t      dddt  \n",
      "5     -4.0     -8.0    -10.0    -12.0   301.0 -0.006645  \n",
      "6      0.0     -2.0     -6.0     -8.0   300.0  0.006667  \n",
      "7      2.0      0.0     -2.0     -6.0   300.0  0.000000  \n",
      "8     -6.0     -4.0     -6.0     -8.0   300.0 -0.020000  \n",
      "9    -10.0    -10.0     -8.0    -10.0   628.0 -0.006369  \n"
     ]
    }
   ],
   "source": [
    "device_833 = \"data-1740136119968-noise.csv\"\n",
    "device_468 = \"data-1740190051056-noise.csv\"\n",
    "\n",
    "df = load_file(device_833)\n",
    "\n",
    "print(df.head())"
   ]
  },
  {
   "cell_type": "markdown",
   "metadata": {},
   "source": [
    "### Obtenha o modelo kNN que melhor se adequa aos dados. Qual o valor k de vizinhos mais próximos selecionado? Por quê?\n",
    "\n",
    "Para determinar o número ideal de vizinhos, desenvolvemos uma função para avaliar os resultados para diferentes valores de *k*. Com base nos resultados obtidos, concluímos que, para o arquivo *device_833*, um valor de *k*=1 é suficiente, pois apresentou 100% de precisão em todas as métricas."
   ]
  },
  {
   "cell_type": "code",
   "execution_count": 217,
   "metadata": {},
   "outputs": [
    {
     "name": "stdout",
     "output_type": "stream",
     "text": [
      "     k  accuracy  precision  recall  specificity  f1_score\n",
      "0    1       1.0        1.0     1.0          1.0       1.0\n",
      "1    2       1.0        1.0     1.0          1.0       1.0\n",
      "2    3       1.0        1.0     1.0          1.0       1.0\n",
      "3    4       1.0        1.0     1.0          1.0       1.0\n",
      "4    5       1.0        1.0     1.0          1.0       1.0\n",
      "5    6       1.0        1.0     1.0          1.0       1.0\n",
      "6    7       1.0        1.0     1.0          1.0       1.0\n",
      "7    8       1.0        1.0     1.0          1.0       1.0\n",
      "8    9       1.0        1.0     1.0          1.0       1.0\n",
      "9   10       1.0        1.0     1.0          1.0       1.0\n",
      "10  11       1.0        1.0     1.0          1.0       1.0\n"
     ]
    }
   ],
   "source": [
    "features = ['diff_t', 'distance', 'diff_d1', 'diff_d2', 'diff_d3', 'diff_d4', 'diff_d5', 'dddt']\n",
    "target = \"noise\"\n",
    "X = df[features] # seleciona as colunas de entrada\n",
    "y = df[target] # seleciona a coluna de saída\n",
    "test_size = 0.3 # 30% dos dados para teste\n",
    "\n",
    "results_metrics = evaluate_knn(X, y, test_size=test_size, scale=False)\n",
    "print(results_metrics.drop(columns=['cm']))\n",
    "\n",
    "selected_k = 1\n",
    "model, X_test, y_test, scaler = fit_model(X, y, test_size=test_size, scale=False, n_neighbors=selected_k)\n"
   ]
  },
  {
   "cell_type": "markdown",
   "metadata": {},
   "source": [
    "### Avalie a capacidade do modelo em classificar novas amostras utilizando as métricas de avaliação abordadas em aula:\n",
    "\n",
    "Neste trabalho usamos 2 arquivos distintos contendo dados de sensores.\n",
    "\n",
    "Para cada local de instalação do sensor existe uma característica física própria, por isso não é possível reaproveitar o treinamento de um sensor para outro sensor, ou seja, para cada arquivo é necessário fazer um treinamento.\n",
    "\n"
   ]
  },
  {
   "cell_type": "markdown",
   "metadata": {},
   "source": [
    "### Matriz de confusão com TP, TN, FP, FN"
   ]
  },
  {
   "cell_type": "code",
   "execution_count": 218,
   "metadata": {},
   "outputs": [
    {
     "name": "stdout",
     "output_type": "stream",
     "text": [
      "Matriz de Confusão:\n",
      " [[439   0]\n",
      " [  0  37]]\n"
     ]
    },
    {
     "data": {
      "image/png": "[encoded data removed]",
      "text/plain": [
       "<Figure size 400x300 with 2 Axes>"
      ]
     },
     "metadata": {},
     "output_type": "display_data"
    }
   ],
   "source": [
    "import seaborn as sns\n",
    "\n",
    "cm = results_metrics.loc[results_metrics['k'] == selected_k, 'cm'].values[0]\n",
    "print(\"Matriz de Confusão:\\n\", cm)\n",
    "\n",
    "# Plotar a matriz de confusão com seaborn\n",
    "plt.figure(figsize=(4, 3))\n",
    "sns.heatmap(cm, annot=True, fmt='d', cmap='Blues', xticklabels=['Sem Ruído', 'Com Ruído'], yticklabels=['Sem Ruído', 'Com Ruído'])\n",
    "plt.xlabel('Previsão')\n",
    "plt.ylabel('Verdadeiro')\n",
    "plt.title('Matriz de Confusão')\n",
    "plt.show()"
   ]
  },
  {
   "cell_type": "markdown",
   "metadata": {},
   "source": [
    "### Obtenha a Acurácia, Precisão, Sensibilidade (recall), especificidade e F1Score"
   ]
  },
  {
   "cell_type": "code",
   "execution_count": 219,
   "metadata": {},
   "outputs": [
    {
     "name": "stdout",
     "output_type": "stream",
     "text": [
      "\n",
      "Métricas de avaliação para o arquivo data-1740136119968-noise.csv\n",
      "Acurácia: 1.0\n",
      "Precisão: 1.0\n",
      "Sensibilidade (Recall): 1.0\n",
      "Especificidade: 1.0\n",
      "F1 Score: 1.0\n"
     ]
    }
   ],
   "source": [
    "metrics = results_metrics.loc[results_metrics['k'] == selected_k]\n",
    "print(f\"\\nMétricas de avaliação para o arquivo {device_833}\")\n",
    "\n",
    "print(f\"Acurácia: {metrics['accuracy'].values[0]}\")\n",
    "print(f\"Precisão: {metrics['precision'].values[0]}\")\n",
    "print(f\"Sensibilidade (Recall): {metrics['recall'].values[0]}\")\n",
    "print(f\"Especificidade: {metrics['specificity'].values[0]}\")\n",
    "print(f\"F1 Score: {metrics['f1_score'].values[0]}\")\n"
   ]
  },
  {
   "cell_type": "markdown",
   "metadata": {},
   "source": [
    "### Apresente a curva ROC"
   ]
  },
  {
   "cell_type": "code",
   "execution_count": 220,
   "metadata": {},
   "outputs": [
    {
     "data": {
      "image/png": "[encoded data removed]",
      "text/plain": [
       "<Figure size 640x480 with 1 Axes>"
      ]
     },
     "metadata": {},
     "output_type": "display_data"
    }
   ],
   "source": [
    "plot_roc_curve(model, X_test, y_test)"
   ]
  },
  {
   "cell_type": "markdown",
   "metadata": {},
   "source": [
    "### Métricas do treinamento usando o arquivo *device_468*"
   ]
  },
  {
   "cell_type": "code",
   "execution_count": 221,
   "metadata": {},
   "outputs": [
    {
     "name": "stdout",
     "output_type": "stream",
     "text": [
      "\n",
      "Métricas de avaliação para o arquivo data-1740190051056-noise.csv\n",
      "     k  accuracy  precision  recall  specificity  f1_score\n",
      "0    1  0.993506       0.75     0.6     0.997812  0.666667\n",
      "1    2  0.993506       1.00     0.4     1.000000  0.571429\n",
      "2    3  0.993506       1.00     0.4     1.000000  0.571429\n",
      "3    4  0.993506       1.00     0.4     1.000000  0.571429\n",
      "4    5  0.993506       1.00     0.4     1.000000  0.571429\n",
      "5    6  0.991342       1.00     0.2     1.000000  0.333333\n",
      "6    7  0.991342       1.00     0.2     1.000000  0.333333\n",
      "7    8  0.989177       0.00     0.0     1.000000  0.000000\n",
      "8    9  0.989177       0.00     0.0     1.000000  0.000000\n",
      "9   10  0.989177       0.00     0.0     1.000000  0.000000\n",
      "10  11  0.987013       0.00     0.0     0.997812  0.000000\n"
     ]
    }
   ],
   "source": [
    "df = load_file(device_468)\n",
    "X = df[features] # seleciona as colunas de entrada\n",
    "y = df[target] # seleciona a coluna de saída\n",
    "test_size = 0.3 # 30% dos dados para teste\n",
    "scale = False\n",
    "\n",
    "results_metrics_468 = evaluate_knn(X, y, test_size=test_size, scale=scale)\n",
    "print(f\"\\nMétricas de avaliação para o arquivo {device_468}\")\n",
    "print(results_metrics_468.drop(columns=['cm']))\n",
    "\n",
    "selected_k_468 = 1\n",
    "model, X_test, y_test, scaler = fit_model(X, y, test_size=0.3, scale=scale, n_neighbors=selected_k_468)\n"
   ]
  },
  {
   "cell_type": "markdown",
   "metadata": {},
   "source": [
    "### Comente os resultados com base na aplicação (dataset) utilizada  \n",
    "\n",
    "Nesta atividade, utilizamos dois datasets. No primeiro dataset, foram gerados gráficos e avaliação de métricas, enquanto no segundo dataset realizamos apenas a avaliação das métricas do modelo.  \n",
    "\n",
    "Treinamos o modelo para o arquivo device_833, variando o valor de *k* de 1 a 11, com o objetivo de comparar os resultados obtidos em cada modelo. Como todas as métricas atingiram 100% em todos os modelos, optamos pelo modelo com *k* = 1.\n",
    "\n",
    "Repetimos o processo para o arquivo device_468 e, após avaliar os resultados, escolhemos o modelo com *k* = 2, pois os modelos com *k* maior apresentaram resultados iguais ou abaixo. A escolha ficou entre os modelos 1 e 2, sendo que o modelo 2 foi preferido por apresentar uma precisão melhor, que é o nosso principal critério de avaliação.\n",
    "\n",
    "---\n",
    "\n",
    "### Métricas de Avaliação  \n",
    "\n",
    "#### Primeiro Treinamento  \n",
    "Dataset: `data-1740136119968-noise.csv`  \n",
    "\n",
    "- Acurácia: 1.0  \n",
    "- Precisão: 1.0  \n",
    "- Sensibilidade (Recall): 1.0  \n",
    "- Especificidade: 1.0  \n",
    "- F1 Score: 1.0  \n",
    "\n",
    "O modelo apresentou acurácia, precisão, recall, especificidade e F1 Score máximos (100%), indicando que todas as amostras foram corretamente classificadas.\n",
    "\n",
    "\n",
    "#### Segundo Treinamento  \n",
    "Dataset: `data-1740190051056-noise.csv`  \n",
    "- Acurácia: 0.9935  \n",
    "- Precisão: 1.0  \n",
    "- Sensibilidade (Recall): 0.4  \n",
    "- Especificidade: 1.0  \n",
    "- F1 Score: 0.57  \n",
    "\n",
    "O modelo apresenta uma alta acurácia (99.35%) e precisão (100%), o que indica que ele é muito bom em prever amostras negativas (sem ruído).  \n",
    "\n",
    "No entanto, a sensibilidade (recall) é baixa (40%), o que significa que o modelo não está identificando bem as amostras positivas (com ruído).  \n",
    "\n",
    "A especificidade é alta (100%), indicando que o modelo conseguiu identificar todas as amostras negativas.  \n",
    "\n",
    "Conclusão: O modelo foi bom em prever a ausência de ruído, porém precisa melhorar na detecção de ruído.\n"
   ]
  }
 ],
 "metadata": {
  "kernelspec": {
   "display_name": ".venv",
   "language": "python",
   "name": "python3"
  },
  "language_info": {
   "codemirror_mode": {
    "name": "ipython",
    "version": 3
   },
   "file_extension": ".py",
   "mimetype": "text/x-python",
   "name": "python",
   "nbconvert_exporter": "python",
   "pygments_lexer": "ipython3",
   "version": "3.12.3"
  }
 },
 "nbformat": 4,
 "nbformat_minor": 2
}
